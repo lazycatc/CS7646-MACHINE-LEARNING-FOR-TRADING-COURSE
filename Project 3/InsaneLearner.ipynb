{
 "cells": [
  {
   "cell_type": "code",
   "execution_count": 1,
   "metadata": {},
   "outputs": [],
   "source": [
    "import numpy as np\n",
    "import LinRegLearner as lrl\n",
    "import BagLearner as bl"
   ]
  },
  {
   "cell_type": "code",
   "execution_count": 1,
   "metadata": {},
   "outputs": [],
   "source": [
    "class InsaneLearner(object):\n",
    "\n",
    "    def __init__(self, verbose=False):\n",
    "\n",
    "        self.learners = []\n",
    "\n",
    "        for i in range(0, 20):\n",
    "\n",
    "            self.learners.append(bl.BagLearner(learner = lrl.LinRegLearner, kwargs = {}, bags = 20, boost = False, verbose = False))\n",
    "\n",
    "\n",
    "        # move along, these aren't the drones you're looking for\n",
    "\n",
    "    def author(self):\n",
    "        return 'tyan37'  # replace tb34 with your Georgia Tech username\n",
    "\n",
    "    def addEvidence(self, dataX, dataY):\n",
    "        \"\"\"\n",
    "        @summary: Add training data to learner\n",
    "        @param dataX: X values of data to add\n",
    "        @param dataY: the Y training values\n",
    "        \"\"\"\n",
    "        ## generate random data,randomly selected n items\n",
    "\n",
    "\n",
    "        for l in self.learners:\n",
    "            l.addEvidence(dataX, dataY)\n",
    "\n",
    "\n",
    "    def query(self, points):\n",
    "        \"\"\"\n",
    "        @summary: Estimate a set of test points given the model we built.\n",
    "        @param points: should be a numpy array with each row corresponding to a specific query.\n",
    "        @returns the estimated values according to the saved model.\n",
    "        \"\"\"\n",
    "        result = np.zeros((points.shape[0],), dtype=float)\n",
    "        for l in self.learners:\n",
    "            y = l.query(points)\n",
    "            result = np.column_stack((result, y))\n",
    "        result = result[:, 1:]\n",
    "        return np.mean(result, axis=1)"
   ]
  },
  {
   "cell_type": "code",
   "execution_count": null,
   "metadata": {},
   "outputs": [],
   "source": []
  }
 ],
 "metadata": {
  "kernelspec": {
   "display_name": "Python 3",
   "language": "python",
   "name": "python3"
  },
  "language_info": {
   "codemirror_mode": {
    "name": "ipython",
    "version": 3
   },
   "file_extension": ".py",
   "mimetype": "text/x-python",
   "name": "python",
   "nbconvert_exporter": "python",
   "pygments_lexer": "ipython3",
   "version": "3.8.3"
  }
 },
 "nbformat": 4,
 "nbformat_minor": 4
}
