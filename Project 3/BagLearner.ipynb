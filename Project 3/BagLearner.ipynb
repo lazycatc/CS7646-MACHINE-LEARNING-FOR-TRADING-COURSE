{
 "cells": [
  {
   "cell_type": "code",
   "execution_count": 1,
   "metadata": {},
   "outputs": [],
   "source": [
    "import numpy as np\n",
    "import DTLearner as dt\n",
    "import RTLearner as rt\n",
    "import LinRegLearner as lrl"
   ]
  },
  {
   "cell_type": "code",
   "execution_count": 7,
   "metadata": {},
   "outputs": [],
   "source": [
    "class BagLearner(object):\n",
    "    \n",
    "    def __init__(self,learner, kwargs = {\"argument1\":1, \"argument2\":2}, bags = 20, boost = False, verbose=False):\n",
    "        self.learner = learner\n",
    "        self.bags=bags\n",
    "        slef.kwargs=kwargs\n",
    "        \n",
    "    \n",
    "        self.learners=[]\n",
    "        \n",
    "        \n",
    "        for i in range(0,bags):\n",
    "            \n",
    "            if kwargs=={}:\n",
    "                self.learners.append(learner(verbose))\n",
    "            \n",
    "            elif 'leaf_size' in kwargs:\n",
    "                self.learners.append(learner(leaf_size=kwargs['leaf_size']))\n",
    "            \n",
    "            else:\n",
    "                self.learners.append(learner())\n",
    "            \n",
    "    def add_evidence(Xtrain,Ytrain):\n",
    "        \n",
    "        self.models = []\n",
    "        for learner in self.learners:\n",
    "            \n",
    "            RowNum = Xtrain.shape[0]\n",
    "            Row = np.random.choice(RowNum, size=RowNum,replace=True)\n",
    "            learner.add_evidence(Xtrain[Row],Ytrain[Row])\n",
    "            self.models.append(learner)\n",
    "            \n",
    "    def query(self,Xtest):\n",
    "        \n",
    "        result = np.zeros(Xtest.shape[0],1)\n",
    "        for l in self.models:\n",
    "            y=l.query(Xtest)\n",
    "            result = np.column_stack((result, y))\n",
    "\n",
    "        result = result[: , 1: ]\n",
    "\n",
    "        return np.mean(result, axis=1)\n",
    "        "
   ]
  },
  {
   "cell_type": "code",
   "execution_count": null,
   "metadata": {},
   "outputs": [],
   "source": []
  }
 ],
 "metadata": {
  "kernelspec": {
   "display_name": "Python 3",
   "language": "python",
   "name": "python3"
  },
  "language_info": {
   "codemirror_mode": {
    "name": "ipython",
    "version": 3
   },
   "file_extension": ".py",
   "mimetype": "text/x-python",
   "name": "python",
   "nbconvert_exporter": "python",
   "pygments_lexer": "ipython3",
   "version": "3.8.3"
  }
 },
 "nbformat": 4,
 "nbformat_minor": 4
}
