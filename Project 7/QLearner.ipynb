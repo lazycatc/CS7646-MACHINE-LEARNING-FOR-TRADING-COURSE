{
 "cells": [
  {
   "cell_type": "code",
   "execution_count": 13,
   "metadata": {},
   "outputs": [],
   "source": [
    "import numpy as np\n",
    "import pandas as pd\n",
    "import random as rand\n",
    "from copy import deepcopy"
   ]
  },
  {
   "cell_type": "code",
   "execution_count": 15,
   "metadata": {},
   "outputs": [],
   "source": [
    "class QLearner(object):\n",
    "    \n",
    "    def __init__(self,num_states=100,num_actions=4,alpha=0.2,gamma=0.9,\n",
    "                rar=0.5,radr=0.99,dyna=0,verbose=False):\n",
    "        self.num_states=num_states\n",
    "        self.num_actions=num_actions\n",
    "        self.alpha=alpha\n",
    "        self.gamma=gamma\n",
    "        self.rar=rar\n",
    "        self.radr=radr\n",
    "        self.dyna=dyna\n",
    "        self.verbose=verbose\n",
    "        \n",
    "        self.s=0\n",
    "        self.a=0\n",
    "        \n",
    "        self.Q=np.zeros((num_states,num_actions))\n",
    "        self.T={}\n",
    "        self.R=np.zeros((num_states,num_actions))\n",
    "     \n",
    "    \n",
    "    \n",
    "    def querysetstate(self,s):\n",
    "        '''\n",
    "        sets the state to s, and returns an integer action\n",
    "        '''\n",
    "        num_actions=self.num_actions\n",
    "        if rand.uniform(0.0,1.0)<= self.rar:\n",
    "            action=rand.randint(0,num_actions-1)\n",
    "        else:\n",
    "            action=np.argmax(self.Q[s])\n",
    "            \n",
    "        self.s=s\n",
    "        self.a=action\n",
    "        \n",
    "        if self.verbose:\n",
    "            print('s=',s,'a=',action)\n",
    "        \n",
    "        return action\n",
    "        \n",
    "               \n",
    "        \n",
    "    def query(self,s_prime,r):\n",
    "        \"\"\"\n",
    "        @summary: Update the Q table and return an action\n",
    "        @param s_prime: The new state\n",
    "        @param r: The ne state\n",
    "        @returns: The selected action\n",
    "        \"\"\"\n",
    "\n",
    "        self.Q[self.s, self.a] = (1 - self.alpha) * self.Q[self.s, self.a] + self.alpha * (\n",
    "                    r + self.gamma * self.Q[s_prime, np.argmax(self.Q[s_prime])])\n",
    "        \n",
    "        \n",
    "\n",
    "        \"\"\"dyna implementation\"\"\"\n",
    "        if self.dyna>0:\n",
    "            self.R[self.s,self.a]=(1-self.alpha)*self.R[self.s,self.a]+self.alpha*r\n",
    "            if (self.s,self.a) in self.T:\n",
    "                if s_prime in self.T[(self.s,self.a)]:\n",
    "                    self.T[(self.s,self.a)][s_prime]+=1\n",
    "                else:\n",
    "                    self.T[(self.s,self.a)][s_prime] = 1\n",
    "        else:\n",
    "            self.T[(self.s,self.a)]={s_prime:1}\n",
    "            \n",
    "        \n",
    "        Q=deepcopy(self.Q)\n",
    "        for i in range(0,self.dyna-1):\n",
    "            s=rand.randint(0,num_states-1)\n",
    "            a=rand.randint(0,num_actions-1)\n",
    "            if (s,a) in self.T:\n",
    "                s_pr = max(self.T[(s,a)],key=lambda k:self.T[(s,a)][k])\n",
    "                Q[s, a] = (1 - self.alpha) * Q[s, a] \\\n",
    "                                + self.alpha * (self.R[s, a] + self.gamma \n",
    "                                * Q[s_pr, Q[s_pr, :].argmax()])\n",
    "            # Update the Q table of the learner once Dyna-Q is complete\n",
    "            self.Q = deepcopy(Q)\n",
    "        \n",
    "        # Find the next action to take and update the latest state and action\n",
    "        a_prime = self.querysetstate(s_prime)\n",
    "        self.rar *= self.radr\n",
    "        if self.verbose: \n",
    "            print (\"s =\", s_prime,\"a =\",a_prime,\"r =\",r)\n",
    "        return a_prime    "
   ]
  },
  {
   "cell_type": "code",
   "execution_count": 16,
   "metadata": {},
   "outputs": [
    {
     "name": "stdout",
     "output_type": "stream",
     "text": [
      "Remember Q from Star Trek? Well, this is not him\n"
     ]
    }
   ],
   "source": [
    "if __name__=='__main__':\n",
    "    print('Remember Q from Star Trek? Well, this is not him')"
   ]
  },
  {
   "cell_type": "code",
   "execution_count": null,
   "metadata": {},
   "outputs": [],
   "source": []
  }
 ],
 "metadata": {
  "kernelspec": {
   "display_name": "Python 3",
   "language": "python",
   "name": "python3"
  },
  "language_info": {
   "codemirror_mode": {
    "name": "ipython",
    "version": 3
   },
   "file_extension": ".py",
   "mimetype": "text/x-python",
   "name": "python",
   "nbconvert_exporter": "python",
   "pygments_lexer": "ipython3",
   "version": "3.8.3"
  }
 },
 "nbformat": 4,
 "nbformat_minor": 4
}
