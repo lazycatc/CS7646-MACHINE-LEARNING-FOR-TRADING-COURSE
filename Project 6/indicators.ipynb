{
 "cells": [
  {
   "cell_type": "code",
   "execution_count": 47,
   "metadata": {},
   "outputs": [],
   "source": [
    "import numpy as np\n",
    "import pandas as pd\n",
    "import datetime as dt\n",
    "import util"
   ]
  },
  {
   "cell_type": "code",
   "execution_count": 48,
   "metadata": {},
   "outputs": [],
   "source": [
    "def addIndicators(symbol='IBM',start_date=dt.datetime(2008,1,1),\n",
    "                  end_date=dt.datetime(2008,2,1),periods=10,plotData=False):\n",
    "    \n",
    "    sym=[symbol]\n",
    "    dates=pd.date_range(start_date,end_date)\n",
    "    \n",
    "    \n",
    "    prices_all = util.get_data(sym,dates)\n",
    "    prices = prices_all[sym]\n",
    "    vol_all = util.get_data(sym,dates,colname='Volume')\n",
    "    vol = vol_all[sym]\n",
    "    \n",
    "    \n",
    "    # add indicators\n",
    "    ma = prices.rolling(periods).mean()\n",
    "    std = prices.rolling(periods).std()\n",
    "    upper_band=ma+(std*2)\n",
    "    lower_band=ma-(std*2)\n",
    "    bb = (prices-lower_band)/(std*4)\n",
    "    psma=prices/ma\n",
    "    prices_prior=prices.shift(periods-1)\n",
    "    mm=prices/prices_prior-1\n",
    "    \n",
    "    bb=bb.dropna()\n",
    "    psma=psma.dropna()\n",
    "    mm=mm.dropna()\n",
    "    psma=psma.rename(columns={symbol:'price/ma'})\n",
    "    bb=bb.rename(columns={symbol:'bb'})\n",
    "    mm=mm.rename(columns={symbol:'mm'})\n",
    "    \n",
    "    \n",
    "    index_bb = pd.qcut(bb['bb'].values, 10, labels= False)\n",
    "    index_psma = pd.qcut(psma['price/ma'].values, 10, labels= False)\n",
    "\n",
    "    index_mm = pd.qcut(mm['mm'].values, 10, labels= False)\n",
    "\n",
    "    states = discretize(index_bb,index_mm, index_psma )\n",
    "    \n",
    "    if plotData:\n",
    "        ma = ma.dropna()\n",
    "        upper_band=upper_band.dropna()\n",
    "        lower_band=lower_band.dropna()\n",
    "        prices_val = prices.loc[prices.index[periods-1:],:]\n",
    "        ma = ma.rename(columns={symbol: 'sma'})\n",
    "        upper_band = upper_band.rename(columns={symbol: 'upper_band'})\n",
    "        lower_band = lower_band.rename(columns={symbol: 'lower_band'})\n",
    "    \n",
    "        name1 = upper_band.columns[0]\n",
    "        name2 = lower_band.columns[0]\n",
    "        name3 = prices_val.columns[0]\n",
    "        df_temp = pd.concat([upper_band, lower_band, prices_val], axis=1)\n",
    "        util.plot_data(df_temp, xlabel= \"Date\", ylabel=\"Price\")\n",
    "        \n",
    "\n",
    "    return states\n",
    "\n",
    "\n",
    "\n",
    "def discretize(bb, mm, psma):\n",
    "    return bb + mm * 10 + psma*10*10\n"
   ]
  },
  {
   "cell_type": "code",
   "execution_count": 49,
   "metadata": {},
   "outputs": [],
   "source": [
    "if __name__==\"__main__\":\n",
    "    addIndicators('IBM', dt.datetime(2008,1,1), dt.datetime(2009,12, 31),10)"
   ]
  },
  {
   "cell_type": "code",
   "execution_count": null,
   "metadata": {},
   "outputs": [],
   "source": []
  }
 ],
 "metadata": {
  "kernelspec": {
   "display_name": "Python 3",
   "language": "python",
   "name": "python3"
  },
  "language_info": {
   "codemirror_mode": {
    "name": "ipython",
    "version": 3
   },
   "file_extension": ".py",
   "mimetype": "text/x-python",
   "name": "python",
   "nbconvert_exporter": "python",
   "pygments_lexer": "ipython3",
   "version": "3.8.3"
  }
 },
 "nbformat": 4,
 "nbformat_minor": 4
}
