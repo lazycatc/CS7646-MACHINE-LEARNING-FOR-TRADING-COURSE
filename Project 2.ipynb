{
 "cells": [
  {
   "cell_type": "code",
   "execution_count": 61,
   "metadata": {},
   "outputs": [],
   "source": [
    "import numpy as np\n",
    "import matplotlib.pyplot as plt\n",
    "import pandas as pd\n",
    "import datetime as dt\n",
    "import scipy.optimize as sco\n",
    "from util import get_data, plot_data"
   ]
  },
  {
   "cell_type": "code",
   "execution_count": 45,
   "metadata": {},
   "outputs": [],
   "source": [
    "def assess_portfolio(allocs,prices):\n",
    "    prices_normed = prices/prices.values[0]\n",
    "    alloced = prices_normed * allocs\n",
    "    port_val = alloced.sum(axis=1)\n",
    "    daily_retns = port_val[1:].values/port_val[:-1] - 1\n",
    "    \n",
    "    # cumulative return\n",
    "    cr = daily_retns[-1]/daily_retns[0]-1\n",
    "    \n",
    "    # average daily return\n",
    "    adr = daily_retns.mean()\n",
    "    \n",
    "    #standard deviation of daily return\n",
    "    sddr = daily_retns.std()\n",
    "    \n",
    "    # sharpe ratio, risk adjusted (0%) return\n",
    "    sr = (adr - 0) / sddr\n",
    "    sr *= 252**0.5\n",
    "    \n",
    "    return port_val, cr, adr, sddr, sr"
   ]
  },
  {
   "cell_type": "code",
   "execution_count": 53,
   "metadata": {},
   "outputs": [],
   "source": [
    "def min_sharpe_ratio(allocs,prices):\n",
    "    return - assess_portfolio(allocs,prices)[4]"
   ]
  },
  {
   "cell_type": "code",
   "execution_count": 55,
   "metadata": {},
   "outputs": [],
   "source": [
    "def optimize_portfolio(\n",
    "    sd=dt.datetime(2008,1,1),\n",
    "    ed=dt.datetime(2009,1,1),\n",
    "    syms=['GOOG','AAPL','GLD','XOM'],\n",
    "    gen_plot=False,\n",
    "):\n",
    "    dates=pd.date_range(sd,ed)\n",
    "    prices_all=get_data(syms,dates)\n",
    "    prices=prices_all[syms]\n",
    "    prices_SPY=prices_all['SPY']\n",
    "    \n",
    "    # find the allocations for the optimal portfolio\n",
    "    # note that the values here ARE NOT meant to be correct for a test case\n",
    "    num_stocks = len(syms)\n",
    "    initial_alloc = [1/num_stocks]*num_stocks\n",
    "    bds = [(0.0,1.0)] * num_stocks\n",
    "    cons = ({'type':'eq','fun': lambda x : np.sum(x)-1})\n",
    "    \n",
    "    opts = sco(min_sharpe_ratio, initial_alloc, method='SLSQP',bounds=bds, constraints=cons).x\n",
    "    \n",
    "    port_val, cr, adr, sddr, sr = assess_portfolio(opts, prices)\n",
    "    \n",
    "    \n",
    "    if gen_plot:\n",
    "        df_temp = pd.concat([port_val / port_val[0,:], prices_SPY / prices_SPY[0,:]], keys=['Portfolio', 'SPY'], axis=1)\n",
    "        ax = df_temp.plot()\n",
    "        ax.set_title('Daily Portfolio Value and SPY')\n",
    "        ax.set_ylabel('Price')\n",
    "        ax.set_xlabel('Date')\n",
    "        plt.grid(True)\n",
    "        plt.show()\n",
    "    \n",
    "    return opts,cr,adr,sddr,sr"
   ]
  },
  {
   "cell_type": "code",
   "execution_count": 58,
   "metadata": {},
   "outputs": [],
   "source": [
    "def test_code():\n",
    "    start_date = dt.datetime(2009,1,1)\n",
    "    end_date = dt.datetime(2010,1,1)\n",
    "    symbols=['GOOG','AAPL','GLD','XOM','IBM']\n",
    "    \n",
    "    # Assess the portfolio\n",
    "    allocations, cr,adr,sddr,sr=optimize_portfolio(\n",
    "        sd=start_date, ed=end_date, syms=symbols, gen_plot=False\n",
    "    )\n",
    "    \n",
    "    # Print statistics\n",
    "    print('Start Date:', start_date)\n",
    "    print('End Date:', end_date)\n",
    "    print('Symbols:', symbols)\n",
    "    print('Allocations:', allocations)\n",
    "    print('Sharpe Ratio:', sr)\n",
    "    print('Volatility (stdev of daily returns):', sddr)\n",
    "    print('Average Daily Return:', adr)\n",
    "    print('Cumulative Return:', cr)"
   ]
  },
  {
   "cell_type": "code",
   "execution_count": 60,
   "metadata": {},
   "outputs": [],
   "source": [
    "if __name__ == 'main':\n",
    "    test_code()"
   ]
  }
 ],
 "metadata": {
  "kernelspec": {
   "display_name": "Python 3",
   "language": "python",
   "name": "python3"
  },
  "language_info": {
   "codemirror_mode": {
    "name": "ipython",
    "version": 3
   },
   "file_extension": ".py",
   "mimetype": "text/x-python",
   "name": "python",
   "nbconvert_exporter": "python",
   "pygments_lexer": "ipython3",
   "version": "3.8.3"
  }
 },
 "nbformat": 4,
 "nbformat_minor": 4
}
